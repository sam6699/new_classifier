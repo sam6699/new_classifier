{
 "cells": [
  {
   "cell_type": "code",
   "execution_count": 1,
   "source": [
    "from gensim.models.doc2vec import Doc2Vec, TaggedDocument\n",
    "from nltk.tokenize import word_tokenize\n",
    "from utils import load_dataset\n",
    "from sklearn.model_selection import train_test_split\n",
    "from sklearn.metrics import classification_report"
   ],
   "outputs": [],
   "metadata": {}
  },
  {
   "cell_type": "code",
   "execution_count": 3,
   "source": [
    "dataset = load_dataset(\"data/final_dataset.json\")"
   ],
   "outputs": [],
   "metadata": {}
  },
  {
   "cell_type": "code",
   "execution_count": 4,
   "source": [
    "labels = ['sport','education',\"science\",\"startup\",\"career\"]\n",
    "token2idx = {\"sport\":0,\"education\":1,\"science\":2,\"startup\":3,\"career\":4}"
   ],
   "outputs": [],
   "metadata": {}
  },
  {
   "cell_type": "code",
   "execution_count": 7,
   "source": [
    "target = []\n",
    "features = []\n",
    "for cls in dataset:\n",
    "    true_val = None\n",
    "    for label in labels:\n",
    "        if cls.startswith(label):\n",
    "            true_val = label\n",
    "            break\n",
    "    if true_val:\n",
    "        for post in dataset[cls].values():\n",
    "            target.append(true_val)\n",
    "            features.append(post['main_text'])"
   ],
   "outputs": [],
   "metadata": {}
  },
  {
   "cell_type": "code",
   "execution_count": 10,
   "source": [
    "X_train, X_test, y_train, y_test = train_test_split(features, target, test_size=0.33, random_state=42)"
   ],
   "outputs": [],
   "metadata": {}
  },
  {
   "cell_type": "code",
   "execution_count": 11,
   "source": [
    "tagged_data = [TaggedDocument(words=word_tokenize(_d.lower()), tags=[str(i)]) for i, _d in zip(y_train,X_train)]"
   ],
   "outputs": [],
   "metadata": {}
  },
  {
   "cell_type": "code",
   "execution_count": 32,
   "source": [
    "model = Doc2Vec(tagged_data, vector_size=20, window=6, min_count=1, workers=4)"
   ],
   "outputs": [],
   "metadata": {}
  },
  {
   "cell_type": "code",
   "execution_count": 33,
   "source": [
    "test_data = word_tokenize(features[-1].lower())\n",
    "v2 = model.docvecs.most_similar([model.infer_vector(test_data)])\n",
    "print(\"V1_infer\", v2)"
   ],
   "outputs": [
    {
     "output_type": "stream",
     "name": "stdout",
     "text": [
      "V1_infer [('career', 0.8171383142471313), ('education', 0.7956113815307617), ('sport', 0.7814397811889648), ('startup', 0.689215898513794), ('science', 0.5847673416137695)]\n"
     ]
    }
   ],
   "metadata": {}
  },
  {
   "cell_type": "code",
   "execution_count": 38,
   "source": [
    "y_pred = []\n",
    "for doc in X_test:\n",
    "    tokenized =  word_tokenize(doc.lower())\n",
    "    v = model.docvecs.most_similar([model.infer_vector(tokenized)])\n",
    "    y_pred.append(v[0][0])"
   ],
   "outputs": [],
   "metadata": {}
  },
  {
   "cell_type": "code",
   "execution_count": 39,
   "source": [
    "print(classification_report(y_test, y_pred))"
   ],
   "outputs": [
    {
     "output_type": "stream",
     "name": "stdout",
     "text": [
      "              precision    recall  f1-score   support\n",
      "\n",
      "      career       0.18      0.94      0.31       126\n",
      "   education       0.78      0.23      0.35       345\n",
      "     science       0.89      0.50      0.64       218\n",
      "       sport       0.55      0.44      0.49        39\n",
      "     startup       0.00      0.00      0.00       173\n",
      "\n",
      "    accuracy                           0.36       901\n",
      "   macro avg       0.48      0.42      0.36       901\n",
      "weighted avg       0.56      0.36      0.35       901\n",
      "\n"
     ]
    }
   ],
   "metadata": {}
  },
  {
   "cell_type": "code",
   "execution_count": 40,
   "source": [
    "from sklearn.metrics import confusion_matrix\n",
    "from sklearn.metrics import ConfusionMatrixDisplay\n",
    "\n",
    "cm = confusion_matrix(y_test, y_pred)\n",
    "\n",
    "cm_display = ConfusionMatrixDisplay(cm).plot()"
   ],
   "outputs": [
    {
     "output_type": "display_data",
     "data": {
      "text/plain": [
       "<Figure size 432x288 with 2 Axes>"
      ],
      "image/png": "[encoded data removed]"
     },
     "metadata": {
      "needs_background": "light"
     }
    }
   ],
   "metadata": {}
  },
  {
   "cell_type": "code",
   "execution_count": null,
   "source": [],
   "outputs": [],
   "metadata": {}
  }
 ],
 "metadata": {
  "kernelspec": {
   "display_name": "nlp",
   "language": "python",
   "name": "nlp"
  },
  "language_info": {
   "codemirror_mode": {
    "name": "ipython",
    "version": 3
   },
   "file_extension": ".py",
   "mimetype": "text/x-python",
   "name": "python",
   "nbconvert_exporter": "python",
   "pygments_lexer": "ipython3",
   "version": "3.8.10"
  }
 },
 "nbformat": 4,
 "nbformat_minor": 4
}