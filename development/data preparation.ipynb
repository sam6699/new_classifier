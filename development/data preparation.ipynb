{
 "cells": [
  {
   "cell_type": "markdown",
   "source": [
    "Для разметки датасета был приготовлен \n",
    "список тегов взятый из сайта news.itmo.ru для категорий спорт и карьера.\n",
    "\n",
    "На основе подготовленных тегов был произведен тегов похожих по тематике.\n",
    "Для поиска похожих тегов были использованны предобученные вектора\n",
    "http://vectors.nlpl.eu/repository/20/182.zip"
   ],
   "metadata": {}
  },
  {
   "cell_type": "code",
   "execution_count": 1,
   "source": [
    "import json\n",
    "from vectorizer import Vectorizer\n",
    "import copy"
   ],
   "outputs": [],
   "metadata": {}
  },
  {
   "cell_type": "code",
   "execution_count": 4,
   "source": [
    "!wget http: // vectors.nlpl.eu/repository/20/182.zip -P data/"
   ],
   "outputs": [
    {
     "output_type": "stream",
     "name": "stdout",
     "text": [
      "--2021-08-28 17:04:43--  ftp://http/\n",
      "           => ‘data/.listing’\n",
      "Resolving http (http)... failed: Temporary failure in name resolution.\n",
      "wget: unable to resolve host address ‘http’\n",
      "//: Scheme missing.\n",
      "--2021-08-28 17:04:43--  http://vectors.nlpl.eu/repository/20/182.zip\n",
      "Resolving vectors.nlpl.eu (vectors.nlpl.eu)... 129.240.189.181\n",
      "Connecting to vectors.nlpl.eu (vectors.nlpl.eu)|129.240.189.181|:80... connected.\n",
      "HTTP request sent, awaiting response... 200 OK\n",
      "Length: 637613799 (608M) [application/zip]\n",
      "Saving to: ‘data/182.zip’\n",
      "\n",
      "182.zip             100%[===================>] 608,08M  3,80MB/s    in 2m 49s  \n",
      "\n",
      "2021-08-28 17:07:32 (3,60 MB/s) - ‘data/182.zip’ saved [637613799/637613799]\n",
      "\n",
      "FINISHED --2021-08-28 17:07:32--\n",
      "Total wall clock time: 2m 49s\n",
      "Downloaded: 1 files, 608M in 2m 49s (3,60 MB/s)\n"
     ]
    }
   ],
   "metadata": {}
  },
  {
   "cell_type": "code",
   "execution_count": 5,
   "source": [
    "import zipfile\n",
    "with zipfile.ZipFile(\"data/182.zip\", 'r') as archive:\n",
    "    stream = archive.open('model.bin')\n",
    "    vectorizer = Vectorizer(stream)"
   ],
   "outputs": [],
   "metadata": {}
  },
  {
   "cell_type": "code",
   "execution_count": 18,
   "source": [
    "def load_dataset(path):\n",
    "    with open(path,\"r\") as f:\n",
    "        return json.load(f)"
   ],
   "outputs": [],
   "metadata": {}
  },
  {
   "cell_type": "code",
   "execution_count": 19,
   "source": [
    "categories = ['science',\"education\",'startups',\"university\"]"
   ],
   "outputs": [],
   "metadata": {}
  },
  {
   "cell_type": "code",
   "execution_count": 20,
   "source": [
    "source = load_dataset(\"data/news_itmo.json\")"
   ],
   "outputs": [],
   "metadata": {}
  },
  {
   "cell_type": "code",
   "execution_count": 21,
   "source": [
    "categories_tags = {\n",
    "    'science':set(),\n",
    "    'education':set(),\n",
    "    'startups':set(),\n",
    "    'university':set(),\n",
    "}\n",
    "\n",
    "categories_tags_copy = {\n",
    "    'science':set(),\n",
    "    'education':set(),\n",
    "    'startups':set(),\n",
    "    'university':set(),\n",
    "}"
   ],
   "outputs": [],
   "metadata": {}
  },
  {
   "cell_type": "code",
   "execution_count": 22,
   "source": [
    "for cat in source:\n",
    "    true_cat = ''\n",
    "    for c in categories:\n",
    "        if cat.startswith(c):\n",
    "            true_cat = c\n",
    "            break\n",
    "    for post in source[cat].values():\n",
    "        categories_tags[true_cat].update(post['tags'])\n",
    "        categories_tags_copy[true_cat].update(post['tags'])"
   ],
   "outputs": [],
   "metadata": {}
  },
  {
   "cell_type": "markdown",
   "source": [
    "prepared_tags.json ссылка на файл\n",
    "https://drive.google.com/file/d/1LGiWgOytH4DuU1EWL9r1YyKitsbbCf0o/view?usp=sharing"
   ],
   "metadata": {}
  },
  {
   "cell_type": "code",
   "execution_count": 23,
   "source": [
    "prepared_categories = load_dataset(\"data/prepared_tags.json\")"
   ],
   "outputs": [],
   "metadata": {}
  },
  {
   "cell_type": "code",
   "execution_count": 24,
   "source": [
    "prepared_categories_copy = load_dataset(\"data/prepared_tags.json\")"
   ],
   "outputs": [],
   "metadata": {}
  },
  {
   "cell_type": "code",
   "execution_count": 25,
   "source": [
    "for cat,tags in prepared_categories.items():\n",
    "    for cat1,tags1 in categories_tags.items():\n",
    "        tags = set(vectorizer.get_similar_tags(tags,list(tags1)))\n",
    "        categories_tags_copy[cat1].difference_update(tags)\n",
    "        prepared_categories_copy[cat] = set(prepared_categories_copy[cat]).union(tags)"
   ],
   "outputs": [],
   "metadata": {}
  },
  {
   "cell_type": "markdown",
   "source": [
    "Razmetka"
   ],
   "metadata": {}
  },
  {
   "cell_type": "code",
   "execution_count": 26,
   "source": [
    "sport_career = {\n",
    "    \"sport\":dict(),\n",
    "    \"career\":dict()\n",
    "}"
   ],
   "outputs": [],
   "metadata": {}
  },
  {
   "cell_type": "code",
   "execution_count": 27,
   "source": [
    "for cat,tags in prepared_categories_copy.items():\n",
    "    source_copy = copy.deepcopy(source)\n",
    "    for cat1,posts in source.items():\n",
    "        for post in posts:\n",
    "            if tags.intersection(set(source[cat1][post]['tags'])):\n",
    "                sport_career[cat][source[cat1][post]['url']] = source[cat1][post]\n",
    "                source_copy[cat1].pop(post)\n",
    "    source = source_copy"
   ],
   "outputs": [],
   "metadata": {}
  },
  {
   "cell_type": "code",
   "execution_count": 28,
   "source": [
    "other_categories = {\n",
    "    \"science\":dict(),\n",
    "    \"education\":dict(),\n",
    "    \"startups\":dict(),\n",
    "    \"university\":dict()\n",
    "}"
   ],
   "outputs": [],
   "metadata": {}
  },
  {
   "cell_type": "code",
   "execution_count": 29,
   "source": [
    "for cat,posts in source.items():\n",
    "    true_cat = ''\n",
    "    for i in categories:\n",
    "        if cat.startswith(i):\n",
    "            true_cat = i\n",
    "    for post in posts:\n",
    "        other_categories[true_cat][source[cat][post]['url']] = source[cat][post]"
   ],
   "outputs": [],
   "metadata": {}
  },
  {
   "cell_type": "code",
   "execution_count": 30,
   "source": [
    "for cat,posts in sport_career.items():\n",
    "    print(cat,len(posts))"
   ],
   "outputs": [
    {
     "output_type": "stream",
     "name": "stdout",
     "text": [
      "sport 140\n",
      "career 332\n"
     ]
    }
   ],
   "metadata": {}
  },
  {
   "cell_type": "code",
   "execution_count": 33,
   "source": [
    "for cat,posts in other_categories.items():\n",
    "    print(cat,len(posts))"
   ],
   "outputs": [
    {
     "output_type": "stream",
     "name": "stdout",
     "text": [
      "science 686\n",
      "education 1027\n",
      "startups 543\n",
      "university 690\n"
     ]
    }
   ],
   "metadata": {}
  },
  {
   "cell_type": "markdown",
   "source": [
    "final_dataset.json  ссылка на файл\n",
    "https://drive.google.com/file/d/12At-458dhTz0RJfcIu9qITnYu--akFKc/view?usp=sharing"
   ],
   "metadata": {}
  },
  {
   "cell_type": "code",
   "execution_count": 39,
   "source": [
    "with open(\"data/final_dataset.json\",\"w\") as f:\n",
    "    json.dump({**sport_career,**other_categories},f,indent=2,ensure_ascii=True)"
   ],
   "outputs": [],
   "metadata": {}
  },
  {
   "cell_type": "code",
   "execution_count": null,
   "source": [],
   "outputs": [],
   "metadata": {}
  }
 ],
 "metadata": {
  "kernelspec": {
   "display_name": "nlp",
   "language": "python",
   "name": "nlp"
  },
  "language_info": {
   "codemirror_mode": {
    "name": "ipython",
    "version": 3
   },
   "file_extension": ".py",
   "mimetype": "text/x-python",
   "name": "python",
   "nbconvert_exporter": "python",
   "pygments_lexer": "ipython3",
   "version": "3.8.10"
  }
 },
 "nbformat": 4,
 "nbformat_minor": 4
}